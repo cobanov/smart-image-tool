{
 "cells": [
  {
   "cell_type": "code",
   "execution_count": 1,
   "metadata": {},
   "outputs": [],
   "source": [
    "import torch"
   ]
  },
  {
   "cell_type": "code",
   "execution_count": 8,
   "metadata": {},
   "outputs": [
    {
     "name": "stderr",
     "output_type": "stream",
     "text": [
      "Downloading: \"https://github.com/salesforce/BLIP/archive/master.zip\" to C:\\Users\\cobanov-dd/.cache\\torch\\hub\\master.zip\n"
     ]
    },
    {
     "ename": "FileNotFoundError",
     "evalue": "[Errno 2] No such file or directory: 'C:\\\\Users\\\\cobanov-dd/.cache\\\\torch\\\\hub\\\\salesforce_BLIP_master/hubconf.py'",
     "output_type": "error",
     "traceback": [
      "\u001b[1;31m---------------------------------------------------------------------------\u001b[0m",
      "\u001b[1;31mFileNotFoundError\u001b[0m                         Traceback (most recent call last)",
      "Cell \u001b[1;32mIn [8], line 1\u001b[0m\n\u001b[1;32m----> 1\u001b[0m torch\u001b[39m.\u001b[39;49mhub\u001b[39m.\u001b[39;49mlist(\u001b[39m'\u001b[39;49m\u001b[39msalesforce/BLIP\u001b[39;49m\u001b[39m'\u001b[39;49m)\n",
      "File \u001b[1;32mc:\\Users\\cobanov-dd\\anaconda3\\lib\\site-packages\\torch\\hub.py:242\u001b[0m, in \u001b[0;36mlist\u001b[1;34m(github, force_reload)\u001b[0m\n\u001b[0;32m    238\u001b[0m repo_dir \u001b[39m=\u001b[39m _get_cache_or_reload(github, force_reload, \u001b[39mTrue\u001b[39;00m)\n\u001b[0;32m    240\u001b[0m sys\u001b[39m.\u001b[39mpath\u001b[39m.\u001b[39minsert(\u001b[39m0\u001b[39m, repo_dir)\n\u001b[1;32m--> 242\u001b[0m hub_module \u001b[39m=\u001b[39m import_module(MODULE_HUBCONF, repo_dir \u001b[39m+\u001b[39;49m \u001b[39m'\u001b[39;49m\u001b[39m/\u001b[39;49m\u001b[39m'\u001b[39;49m \u001b[39m+\u001b[39;49m MODULE_HUBCONF)\n\u001b[0;32m    244\u001b[0m sys\u001b[39m.\u001b[39mpath\u001b[39m.\u001b[39mremove(repo_dir)\n\u001b[0;32m    246\u001b[0m \u001b[39m# We take functions starts with '_' as internal helper functions\u001b[39;00m\n",
      "File \u001b[1;32mc:\\Users\\cobanov-dd\\anaconda3\\lib\\site-packages\\torch\\hub.py:74\u001b[0m, in \u001b[0;36mimport_module\u001b[1;34m(name, path)\u001b[0m\n\u001b[0;32m     72\u001b[0m module \u001b[39m=\u001b[39m importlib\u001b[39m.\u001b[39mutil\u001b[39m.\u001b[39mmodule_from_spec(spec)\n\u001b[0;32m     73\u001b[0m \u001b[39massert\u001b[39;00m \u001b[39misinstance\u001b[39m(spec\u001b[39m.\u001b[39mloader, Loader)\n\u001b[1;32m---> 74\u001b[0m spec\u001b[39m.\u001b[39;49mloader\u001b[39m.\u001b[39;49mexec_module(module)\n\u001b[0;32m     75\u001b[0m \u001b[39mreturn\u001b[39;00m module\n",
      "File \u001b[1;32m<frozen importlib._bootstrap_external>:846\u001b[0m, in \u001b[0;36mexec_module\u001b[1;34m(self, module)\u001b[0m\n",
      "File \u001b[1;32m<frozen importlib._bootstrap_external>:982\u001b[0m, in \u001b[0;36mget_code\u001b[1;34m(self, fullname)\u001b[0m\n",
      "File \u001b[1;32m<frozen importlib._bootstrap_external>:1039\u001b[0m, in \u001b[0;36mget_data\u001b[1;34m(self, path)\u001b[0m\n",
      "\u001b[1;31mFileNotFoundError\u001b[0m: [Errno 2] No such file or directory: 'C:\\\\Users\\\\cobanov-dd/.cache\\\\torch\\\\hub\\\\salesforce_BLIP_master/hubconf.py'"
     ]
    }
   ],
   "source": [
    "torch.hub.list('salesforce/BLIP')"
   ]
  },
  {
   "cell_type": "code",
   "execution_count": 6,
   "metadata": {},
   "outputs": [
    {
     "name": "stderr",
     "output_type": "stream",
     "text": [
      "Using cache found in C:\\Users\\cobanov-dd/.cache\\torch\\hub\\intel-isl_MiDaS_master\n"
     ]
    }
   ],
   "source": [
    "midas_transforms = torch.hub.load(\"intel-isl/MiDaS\", \"transforms\")\n"
   ]
  },
  {
   "cell_type": "code",
   "execution_count": 11,
   "metadata": {},
   "outputs": [],
   "source": [
    "import wget"
   ]
  },
  {
   "cell_type": "code",
   "execution_count": 13,
   "metadata": {},
   "outputs": [
    {
     "data": {
      "text/plain": [
       "'models//blip.py'"
      ]
     },
     "execution_count": 13,
     "metadata": {},
     "output_type": "execute_result"
    }
   ],
   "source": [
    "wget.download('https://huggingface.co/spaces/Salesforce/BLIP/raw/main/models/blip.py', 'models/')"
   ]
  },
  {
   "cell_type": "code",
   "execution_count": null,
   "metadata": {},
   "outputs": [],
   "source": []
  },
  {
   "cell_type": "code",
   "execution_count": 14,
   "metadata": {},
   "outputs": [
    {
     "data": {
      "text/plain": [
       "'models//blip_vqa.py'"
      ]
     },
     "execution_count": 14,
     "metadata": {},
     "output_type": "execute_result"
    }
   ],
   "source": [
    "wget.download('https://huggingface.co/spaces/Salesforce/BLIP/raw/main/models/blip_vqa.py', 'models/')"
   ]
  },
  {
   "cell_type": "code",
   "execution_count": null,
   "metadata": {},
   "outputs": [],
   "source": []
  }
 ],
 "metadata": {
  "kernelspec": {
   "display_name": "Python 3.9.13 ('base')",
   "language": "python",
   "name": "python3"
  },
  "language_info": {
   "codemirror_mode": {
    "name": "ipython",
    "version": 3
   },
   "file_extension": ".py",
   "mimetype": "text/x-python",
   "name": "python",
   "nbconvert_exporter": "python",
   "pygments_lexer": "ipython3",
   "version": "3.9.13"
  },
  "orig_nbformat": 4,
  "vscode": {
   "interpreter": {
    "hash": "8a878722369e1a508c645dc5bb155d548b469611ae46386e9f14a57611421929"
   }
  }
 },
 "nbformat": 4,
 "nbformat_minor": 2
}
